{
 "cells": [
  {
   "cell_type": "code",
   "execution_count": 1,
   "id": "5b1bae31",
   "metadata": {},
   "outputs": [
    {
     "name": "stdout",
     "output_type": "stream",
     "text": [
      "Name: asif\n",
      "Phone Number: 87787\n",
      "Place: asdas\n",
      "Body temperature: 88\n",
      "Name: done\n"
     ]
    }
   ],
   "source": [
    "import pandas as pd\n",
    "\n",
    "name_list = []\n",
    "phone_list = []\n",
    "place_list = []\n",
    "temp_list = []\n",
    "while True:\n",
    "    try:\n",
    "        name = input(\"Name: \")                      # name\n",
    "        if name == 'Done' or name == 'done':\n",
    "            break\n",
    "        phone = int(input(\"Phone Number: \"))        # phone number\n",
    "        place = input(\"Place: \")                    # place\n",
    "        temp = int(input(\"Body temperature: \"))     # body temperature\n",
    "    except:\n",
    "        print('Try again')                          #error msg\n",
    "\n",
    "    name_list.append(name)                          # append all values to the created list\n",
    "    phone_list.append(phone)\n",
    "    place_list.append(place)\n",
    "    temp_list.append(temp)\n",
    "\n",
    "# Input taken from receptionist will put in dictionary\n",
    "data = {\n",
    "    'Name': name_list,\n",
    "    'Phone_number': phone_list,\n",
    "    'Place': phone_list,\n",
    "    'Temperature': temp_list\n",
    "}\n",
    "\n",
    "# Creating dataframe from the data\n",
    "df = pd.DataFrame(data)\n",
    "\n",
    "# Convert dataframe to .csv file\n",
    "df.to_csv('Data.csv')"
   ]
  },
  {
   "cell_type": "code",
   "execution_count": null,
   "id": "a79ba0f9",
   "metadata": {},
   "outputs": [],
   "source": []
  }
 ],
 "metadata": {
  "kernelspec": {
   "display_name": "Python 3",
   "language": "python",
   "name": "python3"
  },
  "language_info": {
   "codemirror_mode": {
    "name": "ipython",
    "version": 3
   },
   "file_extension": ".py",
   "mimetype": "text/x-python",
   "name": "python",
   "nbconvert_exporter": "python",
   "pygments_lexer": "ipython3",
   "version": "3.8.9"
  }
 },
 "nbformat": 4,
 "nbformat_minor": 5
}
